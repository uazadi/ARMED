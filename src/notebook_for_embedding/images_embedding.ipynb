{
 "cells": [
  {
   "cell_type": "code",
   "execution_count": null,
   "metadata": {},
   "outputs": [],
   "source": [
    "from sklearn import model_selection\n",
    "from keras.models import Sequential\n",
    "from keras import regularizers\n",
    "import matplotlib.pyplot as plt\n",
    "from keras.applications.mobilenet import MobileNet\n",
    "from keras.utils import to_categorical\n",
    "from keras.models import Model\n",
    "from keras.callbacks import EarlyStopping\n",
    "from PIL import Image\n",
    "import PIL, os, numpy\n"
   ]
  },
  {
   "cell_type": "markdown",
   "metadata": {},
   "source": [
    "## Utilities methods\n",
    "* image_preprocessing = downscale an image to a matrix 224x224x3\n",
    "* pop_layer = remove the last layers of an architecture"
   ]
  },
  {
   "cell_type": "code",
   "execution_count": null,
   "metadata": {},
   "outputs": [],
   "source": [
    "def image_preprocessing(image_path):\n",
    "    img = Image.open(image_path)\n",
    "    img = img.convert(\"RGB\")\n",
    "    img = img.resize((224, 224), PIL.Image.ANTIALIAS)\n",
    "    im2arr = numpy.array(img)\n",
    "    im2arr = im2arr/255\n",
    "    return im2arr\n",
    "                \n",
    "def pop_layer(model):\n",
    "    if not model.outputs:\n",
    "        raise Exception('Sequential model cannot be popped: model is empty.')\n",
    "\n",
    "    model.layers.pop()\n",
    "    if not model.layers:\n",
    "        model.outputs = []\n",
    "        model.inbound_nodes = []\n",
    "        model.outbound_nodes = []\n",
    "    else:\n",
    "        model.layers[-1].outbound_nodes = []\n",
    "        model.outputs = [model.layers[-1].output]\n",
    "    model.built = False"
   ]
  },
  {
   "cell_type": "code",
   "execution_count": null,
   "metadata": {},
   "outputs": [],
   "source": [
    "def cnn():\n",
    "    base_model = MobileNet(input_shape=(224, 224, 3), \n",
    "                           include_top=True, \n",
    "                           weights='imagenet')\n",
    "\n",
    "    # Changing the topology of the network\n",
    "    pop_layer(base_model)\n",
    "    \n",
    "    #predictions = Dense(3, activation='softmax', name='predictions')(base_model.layers[-1].output)\n",
    "    model = Model(inputs=base_model.input, outputs=base_model.layers[-5].output)\n",
    "\n",
    "    return model\n"
   ]
  },
  {
   "cell_type": "code",
   "execution_count": null,
   "metadata": {},
   "outputs": [],
   "source": [
    "model = cnn()\n",
    "model.summary()"
   ]
  },
  {
   "cell_type": "code",
   "execution_count": null,
   "metadata": {},
   "outputs": [],
   "source": [
    "import glob\n",
    "\n",
    "\n",
    "for folder in glob.glob(\"/home/umberto/Desktop/DatasetImages/*\"):\n",
    "    cuisine = folder.split(\"/\")[-1]\n",
    "    output = open(\"/home/umberto/Desktop/im_embeddings/embedding_\" + cuisine + \".csv\", \"w\")\n",
    "    for image_path in glob.glob(folder + \"/*.jpg\"):\n",
    "        print(image_path)\n",
    "        image = image_preprocessing(image_path)\n",
    "        name_dish = image_path.split(\"/\")[-1]\n",
    "        embedding = str(list(model.predict(numpy.array([image]))[0]))[1:-1].replace(\",\", \";\")\n",
    "        output.write(name_dish + \"; \" + embedding +\"\\n\")\n"
   ]
  },
  {
   "cell_type": "code",
   "execution_count": null,
   "metadata": {},
   "outputs": [],
   "source": [
    "image = image_preprocessing(\"/home/umberto/Desktop/DatasetImages/british/Gluten-free sticky toffee pudding.jpg\")\n",
    "im = numpy.array([image])\n",
    "im.shape\n",
    "#str(list(model.predict(im))[0]))[1:-1]"
   ]
  },
  {
   "cell_type": "code",
   "execution_count": null,
   "metadata": {},
   "outputs": [],
   "source": [
    "print(type(result1[0]))"
   ]
  },
  {
   "cell_type": "code",
   "execution_count": null,
   "metadata": {},
   "outputs": [],
   "source": [
    "pastaSugo=result4[0]\n",
    "pastaBianco=result2[0]\n",
    "risoSugo=result1[0]\n",
    "risoBianco=result3[0]\n",
    "\n",
    "sugo=numpy.subtract(pastaSugo,pastaBianco)\n",
    "predictedRisoSugo=numpy.add(risoBianco,sugo)\n",
    "\n",
    "diff=numpy.subtract(predictedRisoSugo,risoSugo)\n",
    "error=numpy.sum(diff)\n",
    "print(error)"
   ]
  },
  {
   "cell_type": "code",
   "execution_count": null,
   "metadata": {},
   "outputs": [],
   "source": [
    "a = choices = []]"
   ]
  }
 ],
 "metadata": {
  "kernelspec": {
   "display_name": "Python 3",
   "language": "python",
   "name": "python3"
  },
  "language_info": {
   "codemirror_mode": {
    "name": "ipython",
    "version": 3
   },
   "file_extension": ".py",
   "mimetype": "text/x-python",
   "name": "python",
   "nbconvert_exporter": "python",
   "pygments_lexer": "ipython3",
   "version": "3.6.7"
  }
 },
 "nbformat": 4,
 "nbformat_minor": 2
}
